{
 "cells": [
  {
   "cell_type": "markdown",
   "metadata": {},
   "source": [
    "## Testing Accuracy of No-Bias Implementation"
   ]
  },
  {
   "cell_type": "code",
   "execution_count": 11,
   "metadata": {},
   "outputs": [],
   "source": [
    "import numpy as np\n",
    "import matplotlib.pyplot as plt\n",
    "from scipy.linalg import svd"
   ]
  },
  {
   "cell_type": "code",
   "execution_count": 7,
   "metadata": {},
   "outputs": [],
   "source": [
    "def grad_U(Ui, Yij, Vj, reg, eta):\n",
    "    \"\"\"\n",
    "    Takes as input Ui (the ith row of U), a training point Yij, the column\n",
    "    vector Vj (jth column of V^T), reg (the regularization parameter lambda),\n",
    "    and eta (the learning rate).\n",
    "\n",
    "    Returns the gradient of the regularized loss function with\n",
    "    respect to Ui multiplied by eta.\n",
    "    \"\"\"\n",
    "    reg_grad = Ui * reg - (Yij - np.dot(Ui, Vj)) * Vj\n",
    "    return eta * reg_grad\n",
    "\n",
    "def grad_V(Vj, Yij, Ui, reg, eta):\n",
    "    \"\"\"\n",
    "    Takes as input the column vector Vj (jth column of V^T), a training point Yij,\n",
    "    Ui (the ith row of U), reg (the regularization parameter lambda),\n",
    "    and eta (the learning rate).\n",
    "\n",
    "    Returns the gradient of the regularized loss function with\n",
    "    respect to Vj multiplied by eta.\n",
    "    \"\"\"\n",
    "    reg_grad = Vj * reg - (Yij - np.dot(Vj, Ui)) * Ui\n",
    "    return eta * reg_grad\n",
    "\n",
    "def get_err(U, V, Y, reg=0.0):\n",
    "    \"\"\"\n",
    "    Takes as input a matrix Y of triples (i, j, Y_ij) where i is the index of a user,\n",
    "    j is the index of a movie, and Y_ij is user i's rating of movie j and\n",
    "    user/movie matrices U and V.\n",
    "\n",
    "    Returns the mean regularized squared-error of predictions made by\n",
    "    estimating Y_{ij} as the dot product of the ith row of U and the jth column of V^T.\n",
    "    \"\"\"\n",
    "    reg_term = reg * (np.linalg.norm(U, 'fro')**2 + np.linalg.norm(V, 'fro')**2) / 2\n",
    "    \n",
    "    least_square_sum = 0\n",
    "    \n",
    "    for (i, j, Yij) in Y:\n",
    "        Ui = U[i - 1]\n",
    "        Vj = V[j - 1]\n",
    "        least_square_sum += (Yij - np.dot(Ui, Vj))**2\n",
    "    \n",
    "    least_square_sum /= 2\n",
    "    \n",
    "    return (reg_term + least_square_sum) / Y.shape[0]\n",
    "\n",
    "\n",
    "def train_model(M, N, K, eta, reg, Y, eps=0.0001, max_epochs=300):\n",
    "    \"\"\"\n",
    "    Given a training data matrix Y containing rows (i, j, Y_ij)\n",
    "    where Y_ij is user i's rating on movie j, learns an\n",
    "    M x K matrix U and N x K matrix V such that rating Y_ij is approximated\n",
    "    by (UV^T)_ij.\n",
    "\n",
    "    Uses a learning rate of <eta> and regularization of <reg>. Stops after\n",
    "    <max_epochs> epochs, or once the magnitude of the decrease in regularized\n",
    "    MSE between epochs is smaller than a fraction <eps> of the decrease in\n",
    "    MSE after the first epoch.\n",
    "\n",
    "    Returns a tuple (U, V, err) consisting of U, V, and the unregularized MSE\n",
    "    of the model.\n",
    "    \"\"\"\n",
    "    U = np.random.uniform(-0.5, 0.5, size=(M, K))\n",
    "    V = np.random.uniform(-0.5, 0.5, size=(N, K))\n",
    "    initial_delta = 0\n",
    "    old_loss = get_err(U, V, Y, reg)\n",
    "    \n",
    "    for epoch in range(max_epochs):\n",
    "        \n",
    "        indices = np.random.permutation(len(Y))\n",
    "        \n",
    "        for index in indices:\n",
    "            (i, j, Yij) = Y[index]\n",
    "            Ui = U[i - 1]\n",
    "            Vj = V[j - 1]\n",
    "            new_Ui = Ui - grad_U(Ui, Yij, Vj, reg, eta)\n",
    "            new_Vj = Vj - grad_V(Vj, Yij, Ui, reg, eta)\n",
    "            U[i - 1] = new_Ui\n",
    "            V[j - 1] = new_Vj\n",
    "        \n",
    "        new_loss = get_err(U, V, Y, reg)\n",
    "            \n",
    "        if epoch == 0:\n",
    "            initial_delta = new_loss - old_loss\n",
    "        else:\n",
    "            delta = new_loss - old_loss\n",
    "            if abs(delta / initial_delta) <= eps:\n",
    "                break\n",
    "        \n",
    "        old_loss = new_loss\n",
    "        \n",
    "    err = get_err(U, V, Y)\n",
    "    return (U, V, err)"
   ]
  },
  {
   "cell_type": "code",
   "execution_count": 8,
   "metadata": {},
   "outputs": [
    {
     "name": "stdout",
     "output_type": "stream",
     "text": [
      "Factorizing with  943  users,  1664  movies.\n",
      "0.3025475870443683 0.44954004994286934\n"
     ]
    }
   ],
   "source": [
    "Y_train = np.loadtxt('./data/train_parsed.txt').astype(int)\n",
    "Y_test = np.loadtxt('./data/test_parsed.txt').astype(int)\n",
    "\n",
    "# data is 1 indexed.\n",
    "\n",
    "M = max(max(Y_train[:,0]), max(Y_test[:,0])).astype(int) # users\n",
    "N = max(max(Y_train[:,1]), max(Y_test[:,1])).astype(int) # movies\n",
    "print(\"Factorizing with \", M, \" users, \", N, \" movies.\")\n",
    "\n",
    "reg = 0.1\n",
    "eta = 0.03 # learning rate\n",
    "K = 20\n",
    "\n",
    "# Use to compute Ein and Eout\n",
    "U,V, err = train_model(M, N, K, eta, reg, Y_train)\n",
    "E_in = err\n",
    "E_out = get_err(U, V, Y_test)\n",
    "print(E_in, E_out)\n"
   ]
  },
  {
   "cell_type": "markdown",
   "metadata": {},
   "source": [
    "## Training on Full Dataset"
   ]
  },
  {
   "cell_type": "code",
   "execution_count": 12,
   "metadata": {},
   "outputs": [
    {
     "name": "stdout",
     "output_type": "stream",
     "text": [
      "Factorizing with  943  users,  1664  movies.\n"
     ]
    }
   ],
   "source": [
    "Y = np.loadtxt('./data/data_parsed.txt').astype(int)\n",
    "\n",
    "# data is 1 indexed.\n",
    "\n",
    "M = max(Y[:,0]).astype(int) # users\n",
    "N = max(Y[:,1]).astype(int) # movies\n",
    "print(\"Factorizing with \", M, \" users, \", N, \" movies.\")\n",
    "\n",
    "reg = 0.1\n",
    "eta = 0.03 # learning rate\n",
    "K = 20\n",
    "\n",
    "# Use to compute Ein and Eout\n",
    "U, V, err = train_model(M, N, K, eta, reg, Y)"
   ]
  },
  {
   "cell_type": "code",
   "execution_count": 13,
   "metadata": {},
   "outputs": [],
   "source": [
    "A, Sigma, Bt = svd(V.transpose())\n",
    "V_tilde = np.matmul(A[:,:2].transpose(), V.transpose())\n",
    "U_tilde = np.matmul(A[:,:2].transpose(), U.transpose())\n",
    "V_x = V_tilde[0]\n",
    "V_y = V_tilde[1]\n",
    "U_x = U_tilde[0]\n",
    "U_y = U_tilde[1]"
   ]
  },
  {
   "cell_type": "markdown",
   "metadata": {},
   "source": [
    "## Visualizations"
   ]
  },
  {
   "cell_type": "code",
   "execution_count": 14,
   "metadata": {},
   "outputs": [
    {
     "data": {
      "text/plain": [
       "<matplotlib.collections.PathCollection at 0x1208d5b50>"
      ]
     },
     "execution_count": 14,
     "metadata": {},
     "output_type": "execute_result"
    },
    {
     "data": {
      "image/png": "[encoded data removed]",
      "text/plain": [
       "<Figure size 432x288 with 1 Axes>"
      ]
     },
     "metadata": {
      "needs_background": "light"
     },
     "output_type": "display_data"
    }
   ],
   "source": [
    "plt.scatter(V_x, V_y)"
   ]
  },
  {
   "cell_type": "code",
   "execution_count": 15,
   "metadata": {},
   "outputs": [
    {
     "data": {
      "text/plain": [
       "<matplotlib.collections.PathCollection at 0x113e51990>"
      ]
     },
     "execution_count": 15,
     "metadata": {},
     "output_type": "execute_result"
    },
    {
     "data": {
      "image/png": "[encoded data removed]",
      "text/plain": [
       "<Figure size 432x288 with 1 Axes>"
      ]
     },
     "metadata": {
      "needs_background": "light"
     },
     "output_type": "display_data"
    }
   ],
   "source": [
    "plt.scatter(U_x, U_y)"
   ]
  },
  {
   "cell_type": "code",
   "execution_count": null,
   "metadata": {},
   "outputs": [],
   "source": []
  }
 ],
 "metadata": {
  "kernelspec": {
   "display_name": "Python 3",
   "language": "python",
   "name": "python3"
  },
  "language_info": {
   "codemirror_mode": {
    "name": "ipython",
    "version": 3
   },
   "file_extension": ".py",
   "mimetype": "text/x-python",
   "name": "python",
   "nbconvert_exporter": "python",
   "pygments_lexer": "ipython3",
   "version": "3.7.4"
  }
 },
 "nbformat": 4,
 "nbformat_minor": 4
}
