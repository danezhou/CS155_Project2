{
 "cells": [
  {
   "cell_type": "code",
   "execution_count": 2,
   "metadata": {},
   "outputs": [],
   "source": [
    "from collections import Counter\n",
    "import numpy as np"
   ]
  },
  {
   "cell_type": "code",
   "execution_count": 3,
   "metadata": {},
   "outputs": [],
   "source": [
    "data = np.loadtxt('./data/data.txt').astype(int)"
   ]
  },
  {
   "cell_type": "code",
   "execution_count": 4,
   "metadata": {},
   "outputs": [],
   "source": [
    "# Loading the movie data\n",
    "movie_data = np.genfromtxt('./data/movies.txt', dtype=None, delimiter='\\t', encoding='utf8')"
   ]
  },
  {
   "cell_type": "code",
   "execution_count": 5,
   "metadata": {},
   "outputs": [],
   "source": [
    "movie_titles = [movie[1] for movie in movie_data]"
   ]
  },
  {
   "cell_type": "code",
   "execution_count": 6,
   "metadata": {},
   "outputs": [],
   "source": [
    "movie_dict = Counter(movie_titles)"
   ]
  },
  {
   "cell_type": "code",
   "execution_count": 7,
   "metadata": {},
   "outputs": [],
   "source": [
    "movie_ids = {}\n",
    "\n",
    "i = 1\n",
    "for movie in movie_titles:\n",
    "    movie_ids[i] = movie\n",
    "    i += 1"
   ]
  },
  {
   "cell_type": "code",
   "execution_count": 8,
   "metadata": {},
   "outputs": [],
   "source": [
    "movie_to_new_ids = {}\n",
    "\n",
    "i = 1\n",
    "for movie in movie_dict.keys():\n",
    "    movie_to_new_ids[movie] = i\n",
    "    i += 1"
   ]
  },
  {
   "cell_type": "code",
   "execution_count": 9,
   "metadata": {},
   "outputs": [
    {
     "name": "stdout",
     "output_type": "stream",
     "text": [
      "[[ 196  242    3]\n",
      " [ 186  302    3]\n",
      " [  22  377    1]\n",
      " ...\n",
      " [ 276 1090    1]\n",
      " [  13  225    2]\n",
      " [  12  203    3]]\n"
     ]
    }
   ],
   "source": [
    "print(data)"
   ]
  },
  {
   "cell_type": "code",
   "execution_count": 10,
   "metadata": {},
   "outputs": [],
   "source": [
    "new_data = []\n",
    "\n",
    "for rating in data:\n",
    "    new_rating = [str(rating[0]), 0, str(rating[2])]\n",
    "    new_rating[1] = str(movie_to_new_ids[movie_ids[rating[1]]])\n",
    "    new_data.append(new_rating)"
   ]
  },
  {
   "cell_type": "code",
   "execution_count": 11,
   "metadata": {},
   "outputs": [],
   "source": [
    "with open('./data/data_parsed.txt', 'w') as file:\n",
    "    file.writelines('\\t'.join(i) + '\\n' for i in new_data)"
   ]
  },
  {
   "cell_type": "code",
   "execution_count": 12,
   "metadata": {},
   "outputs": [],
   "source": [
    "train_data = np.loadtxt('./data/train.txt').astype(int)\n",
    "test_data = np.loadtxt('./data/test.txt').astype(int)"
   ]
  },
  {
   "cell_type": "code",
   "execution_count": 13,
   "metadata": {},
   "outputs": [],
   "source": [
    "new_train_data = []\n",
    "\n",
    "for rating in train_data:\n",
    "    new_rating = [str(rating[0]), 0, str(rating[2])]\n",
    "    new_rating[1] = str(movie_to_new_ids[movie_ids[rating[1]]])\n",
    "    new_train_data.append(new_rating)"
   ]
  },
  {
   "cell_type": "code",
   "execution_count": 14,
   "metadata": {},
   "outputs": [],
   "source": [
    "with open('./data/train_parsed.txt', 'w') as file:\n",
    "    file.writelines('\\t'.join(i) + '\\n' for i in new_train_data)"
   ]
  },
  {
   "cell_type": "code",
   "execution_count": 15,
   "metadata": {},
   "outputs": [],
   "source": [
    "new_test_data = []\n",
    "\n",
    "for rating in test_data:\n",
    "    new_rating = [str(rating[0]), 0, str(rating[2])]\n",
    "    new_rating[1] = str(movie_to_new_ids[movie_ids[rating[1]]])\n",
    "    new_test_data.append(new_rating)"
   ]
  },
  {
   "cell_type": "code",
   "execution_count": 16,
   "metadata": {},
   "outputs": [],
   "source": [
    "with open('./data/test_parsed.txt', 'w') as file:\n",
    "    file.writelines('\\t'.join(i) + '\\n' for i in new_test_data)"
   ]
  },
  {
   "cell_type": "code",
   "execution_count": 17,
   "metadata": {},
   "outputs": [],
   "source": [
    "data_formatted = np.loadtxt('./data/data_parsed.txt').astype(int)"
   ]
  },
  {
   "cell_type": "code",
   "execution_count": 18,
   "metadata": {},
   "outputs": [
    {
     "name": "stdout",
     "output_type": "stream",
     "text": [
      "[[ 196  242    3]\n",
      " [ 186  301    3]\n",
      " [  22  374    1]\n",
      " ...\n",
      " [ 276 1081    1]\n",
      " [  13  225    2]\n",
      " [  12  203    3]]\n"
     ]
    }
   ],
   "source": [
    "print(data_formatted)"
   ]
  },
  {
   "cell_type": "code",
   "execution_count": 19,
   "metadata": {},
   "outputs": [],
   "source": [
    "train_formatted = np.loadtxt('./data/train_parsed.txt').astype(int)"
   ]
  },
  {
   "cell_type": "code",
   "execution_count": 20,
   "metadata": {},
   "outputs": [
    {
     "data": {
      "text/plain": [
       "array([[ 196,  242,    3],\n",
       "       [ 186,  301,    3],\n",
       "       [  22,  374,    1],\n",
       "       ...,\n",
       "       [ 716,  204,    5],\n",
       "       [ 276, 1081,    1],\n",
       "       [  12,  203,    3]])"
      ]
     },
     "execution_count": 20,
     "metadata": {},
     "output_type": "execute_result"
    }
   ],
   "source": [
    "train_formatted"
   ]
  },
  {
   "cell_type": "code",
   "execution_count": 21,
   "metadata": {},
   "outputs": [
    {
     "data": {
      "text/plain": [
       "1664"
      ]
     },
     "execution_count": 21,
     "metadata": {},
     "output_type": "execute_result"
    }
   ],
   "source": [
    "len(movie_dict.keys())"
   ]
  },
  {
   "cell_type": "code",
   "execution_count": 23,
   "metadata": {},
   "outputs": [],
   "source": [
    "most_rated = [120, 298, 49, 292, 286, 284, 257, 99, 180, 0]"
   ]
  },
  {
   "cell_type": "code",
   "execution_count": 24,
   "metadata": {},
   "outputs": [
    {
     "name": "stdout",
     "output_type": "stream",
     "text": [
      "Independence Day (ID4) (1996)\n",
      "Hoodlum (1997)\n",
      "Star Wars (1977)\n",
      "Donnie Brasco (1997)\n",
      "Marvin's Room (1996)\n",
      "Secrets & Lies (1996)\n",
      "Contact (1997)\n",
      "Fargo (1996)\n",
      "Return of the Jedi (1983)\n",
      "Toy Story (1995)\n"
     ]
    }
   ],
   "source": [
    "for ind in most_rated:\n",
    "    print(movie_ids[ind+1])"
   ]
  },
  {
   "cell_type": "code",
   "execution_count": null,
   "metadata": {},
   "outputs": [],
   "source": []
  }
 ],
 "metadata": {
  "kernelspec": {
   "display_name": "Python 3",
   "language": "python",
   "name": "python3"
  },
  "language_info": {
   "codemirror_mode": {
    "name": "ipython",
    "version": 3
   },
   "file_extension": ".py",
   "mimetype": "text/x-python",
   "name": "python",
   "nbconvert_exporter": "python",
   "pygments_lexer": "ipython3",
   "version": "3.7.4"
  }
 },
 "nbformat": 4,
 "nbformat_minor": 2
}
