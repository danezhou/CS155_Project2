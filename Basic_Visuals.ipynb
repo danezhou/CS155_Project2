{
 "cells": [
  {
   "cell_type": "code",
   "execution_count": 8,
   "metadata": {},
   "outputs": [],
   "source": [
    "import numpy as np\n",
    "import matplotlib.pyplot as plt"
   ]
  },
  {
   "cell_type": "code",
   "execution_count": 4,
   "metadata": {},
   "outputs": [],
   "source": [
    "data = np.loadtxt('./data/data.txt').astype(int)"
   ]
  },
  {
   "cell_type": "code",
   "execution_count": 10,
   "metadata": {},
   "outputs": [
    {
     "data": {
      "image/png": "[encoded data removed]",
      "text/plain": [
       "<Figure size 432x288 with 1 Axes>"
      ]
     },
     "metadata": {
      "needs_background": "light"
     },
     "output_type": "display_data"
    }
   ],
   "source": [
    "# Basic Visualization 1 - All ratings in the data set\n",
    "n_movies = 1682\n",
    "num_ratings = [0 for i in range(n_movies)]\n",
    "\n",
    "for rating in data:\n",
    "    movie_ind = rating[1] - 1\n",
    "    num_ratings[movie_ind] += 1\n",
    "\n",
    "movie_indices = [i+1 for i in range(n_movies)]\n",
    "fig = plt.figure()\n",
    "ax = fig.add_axes([0, 0, 1, 1])\n",
    "ax.bar(movie_indices, num_ratings)\n",
    "plt.title('All ratings')\n",
    "plt.xlabel('Movie ID')\n",
    "plt.ylabel('Number of ratings')\n",
    "plt.show()"
   ]
  },
  {
   "cell_type": "code",
   "execution_count": 14,
   "metadata": {},
   "outputs": [
    {
     "name": "stdout",
     "output_type": "stream",
     "text": [
      "[196, 418, 1077, 1775, 1397]\n"
     ]
    }
   ],
   "source": [
    "most_rated = np.argpartition(num_ratings, -10)[-10:]\n",
    "\n",
    "ratings = [0 for i in range(5)]\n",
    "for rating in data:\n",
    "    movie_ind = rating[1] - 1\n",
    "    if movie_ind in most_rated:\n",
    "        rating_ind = rating[2] - 1\n",
    "        ratings[rating_ind] += 1\n",
    "\n",
    "print(ratings)"
   ]
  },
  {
   "cell_type": "code",
   "execution_count": null,
   "metadata": {},
   "outputs": [],
   "source": []
  }
 ],
 "metadata": {
  "kernelspec": {
   "display_name": "Python 3",
   "language": "python",
   "name": "python3"
  },
  "language_info": {
   "codemirror_mode": {
    "name": "ipython",
    "version": 3
   },
   "file_extension": ".py",
   "mimetype": "text/x-python",
   "name": "python",
   "nbconvert_exporter": "python",
   "pygments_lexer": "ipython3",
   "version": "3.7.4"
  }
 },
 "nbformat": 4,
 "nbformat_minor": 2
}
